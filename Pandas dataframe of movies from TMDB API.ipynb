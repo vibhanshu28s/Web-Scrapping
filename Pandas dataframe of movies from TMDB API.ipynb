{
 "cells": [
  {
   "cell_type": "markdown",
   "id": "d052679b-dfaa-41d8-b4a8-9dfe9c616180",
   "metadata": {},
   "source": [
    "#Pandas dataframe of movies from TMDB API"
   ]
  },
  {
   "cell_type": "code",
   "execution_count": 2,
   "id": "f7dc62c2-1958-4f60-8ccd-1750160968b5",
   "metadata": {},
   "outputs": [],
   "source": [
    "import requests\n",
    "import pandas as pd"
   ]
  },
  {
   "cell_type": "code",
   "execution_count": 3,
   "id": "f01eefc2-4502-41dc-9487-4a7d3e9212f3",
   "metadata": {},
   "outputs": [],
   "source": [
    "final=pd.DataFrame()\n",
    "for j in range(1,501):\n",
    "    response = requests.get(\"http://api.themoviedb.org/3/movie/popular?api_key=8265bd1679663a7ea12ac168da84d2e8&language=en-US&page={}\".format(j)).json()\n",
    "    \n",
    "    popularity=[]\n",
    "    vote_count=[]\n",
    "    original_language=[]\n",
    "    title=[]\n",
    "    vote_average=[]\n",
    "    overview=[]\n",
    "    release_date=[]\n",
    "\n",
    "    for i in response[\"results\"]:\n",
    "        popularity.append(i[\"popularity\"])\n",
    "        vote_count.append(i[\"vote_count\"])\n",
    "        original_language.append(i[\"original_language\"])\n",
    "        title.append(i[\"title\"])\n",
    "        vote_average.append(i[\"vote_average\"])\n",
    "        overview.append(i[\"overview\"])\n",
    "        release_date.append(i[\"release_date\"])\n",
    "    \n",
    "    d={\"title\":title, \"overview\":overview, \"original_language\":original_language, \"release date\":release_date, \n",
    "       \"popularity\":popularity, \"vote_count\":vote_count,\"vote_average\":vote_average}\n",
    "    \n",
    "    df=pd.DataFrame(d)    \n",
    "\n",
    "    final = pd.concat([final, df], ignore_index=True)\n",
    "\n"
   ]
  },
  {
   "cell_type": "code",
   "execution_count": 4,
   "id": "d8a87953-d099-4898-a4aa-dbed20194956",
   "metadata": {},
   "outputs": [
    {
     "data": {
      "text/html": [
       "<div>\n",
       "<style scoped>\n",
       "    .dataframe tbody tr th:only-of-type {\n",
       "        vertical-align: middle;\n",
       "    }\n",
       "\n",
       "    .dataframe tbody tr th {\n",
       "        vertical-align: top;\n",
       "    }\n",
       "\n",
       "    .dataframe thead th {\n",
       "        text-align: right;\n",
       "    }\n",
       "</style>\n",
       "<table border=\"1\" class=\"dataframe\">\n",
       "  <thead>\n",
       "    <tr style=\"text-align: right;\">\n",
       "      <th></th>\n",
       "      <th>title</th>\n",
       "      <th>overview</th>\n",
       "      <th>original_language</th>\n",
       "      <th>release date</th>\n",
       "      <th>popularity</th>\n",
       "      <th>vote_count</th>\n",
       "      <th>vote_average</th>\n",
       "    </tr>\n",
       "  </thead>\n",
       "  <tbody>\n",
       "    <tr>\n",
       "      <th>0</th>\n",
       "      <td>Venom: The Last Dance</td>\n",
       "      <td>Eddie and Venom are on the run. Hunted by both...</td>\n",
       "      <td>en</td>\n",
       "      <td>2024-10-22</td>\n",
       "      <td>3073.235</td>\n",
       "      <td>850</td>\n",
       "      <td>6.499</td>\n",
       "    </tr>\n",
       "    <tr>\n",
       "      <th>1</th>\n",
       "      <td>Smile 2</td>\n",
       "      <td>About to embark on a new world tour, global po...</td>\n",
       "      <td>en</td>\n",
       "      <td>2024-10-16</td>\n",
       "      <td>2261.273</td>\n",
       "      <td>633</td>\n",
       "      <td>6.900</td>\n",
       "    </tr>\n",
       "    <tr>\n",
       "      <th>2</th>\n",
       "      <td>The Wild Robot</td>\n",
       "      <td>After a shipwreck, an intelligent robot called...</td>\n",
       "      <td>en</td>\n",
       "      <td>2024-09-12</td>\n",
       "      <td>2014.165</td>\n",
       "      <td>3098</td>\n",
       "      <td>8.500</td>\n",
       "    </tr>\n",
       "    <tr>\n",
       "      <th>3</th>\n",
       "      <td>Gladiator II</td>\n",
       "      <td>Years after witnessing the death of the revere...</td>\n",
       "      <td>en</td>\n",
       "      <td>2024-11-13</td>\n",
       "      <td>1755.715</td>\n",
       "      <td>688</td>\n",
       "      <td>6.791</td>\n",
       "    </tr>\n",
       "    <tr>\n",
       "      <th>4</th>\n",
       "      <td>Terrifier 3</td>\n",
       "      <td>Five years after surviving Art the Clown's Hal...</td>\n",
       "      <td>en</td>\n",
       "      <td>2024-10-09</td>\n",
       "      <td>1511.130</td>\n",
       "      <td>1087</td>\n",
       "      <td>6.900</td>\n",
       "    </tr>\n",
       "  </tbody>\n",
       "</table>\n",
       "</div>"
      ],
      "text/plain": [
       "                   title                                           overview  \\\n",
       "0  Venom: The Last Dance  Eddie and Venom are on the run. Hunted by both...   \n",
       "1                Smile 2  About to embark on a new world tour, global po...   \n",
       "2         The Wild Robot  After a shipwreck, an intelligent robot called...   \n",
       "3           Gladiator II  Years after witnessing the death of the revere...   \n",
       "4            Terrifier 3  Five years after surviving Art the Clown's Hal...   \n",
       "\n",
       "  original_language release date  popularity  vote_count  vote_average  \n",
       "0                en   2024-10-22    3073.235         850         6.499  \n",
       "1                en   2024-10-16    2261.273         633         6.900  \n",
       "2                en   2024-09-12    2014.165        3098         8.500  \n",
       "3                en   2024-11-13    1755.715         688         6.791  \n",
       "4                en   2024-10-09    1511.130        1087         6.900  "
      ]
     },
     "execution_count": 4,
     "metadata": {},
     "output_type": "execute_result"
    }
   ],
   "source": [
    "final.head()"
   ]
  },
  {
   "cell_type": "code",
   "execution_count": 5,
   "id": "263a0d60-438f-4ab1-8b33-7fb91ea702d4",
   "metadata": {},
   "outputs": [
    {
     "data": {
      "text/plain": [
       "(10000, 7)"
      ]
     },
     "execution_count": 5,
     "metadata": {},
     "output_type": "execute_result"
    }
   ],
   "source": [
    "final.shape"
   ]
  },
  {
   "cell_type": "code",
   "execution_count": 6,
   "id": "cb2cfbdd-d57f-4067-ae43-e52f9cc2ddfb",
   "metadata": {
    "scrolled": true
   },
   "outputs": [
    {
     "data": {
      "text/html": [
       "<div>\n",
       "<style scoped>\n",
       "    .dataframe tbody tr th:only-of-type {\n",
       "        vertical-align: middle;\n",
       "    }\n",
       "\n",
       "    .dataframe tbody tr th {\n",
       "        vertical-align: top;\n",
       "    }\n",
       "\n",
       "    .dataframe thead th {\n",
       "        text-align: right;\n",
       "    }\n",
       "</style>\n",
       "<table border=\"1\" class=\"dataframe\">\n",
       "  <thead>\n",
       "    <tr style=\"text-align: right;\">\n",
       "      <th></th>\n",
       "      <th>title</th>\n",
       "      <th>overview</th>\n",
       "      <th>original_language</th>\n",
       "      <th>release date</th>\n",
       "      <th>popularity</th>\n",
       "      <th>vote_count</th>\n",
       "      <th>vote_average</th>\n",
       "    </tr>\n",
       "  </thead>\n",
       "  <tbody>\n",
       "    <tr>\n",
       "      <th>9995</th>\n",
       "      <td>Banana Joe</td>\n",
       "      <td>Island farmer Banana Joe helps the local commu...</td>\n",
       "      <td>it</td>\n",
       "      <td>1982-03-24</td>\n",
       "      <td>15.202</td>\n",
       "      <td>451</td>\n",
       "      <td>6.700</td>\n",
       "    </tr>\n",
       "    <tr>\n",
       "      <th>9996</th>\n",
       "      <td>Wolf Hound</td>\n",
       "      <td>Inspired by the real-life German special opera...</td>\n",
       "      <td>en</td>\n",
       "      <td>2022-06-03</td>\n",
       "      <td>12.173</td>\n",
       "      <td>90</td>\n",
       "      <td>6.500</td>\n",
       "    </tr>\n",
       "    <tr>\n",
       "      <th>9997</th>\n",
       "      <td>Eternal 831</td>\n",
       "      <td>In the present day, the world is in turmoil du...</td>\n",
       "      <td>ja</td>\n",
       "      <td>2022-03-18</td>\n",
       "      <td>12.510</td>\n",
       "      <td>18</td>\n",
       "      <td>5.778</td>\n",
       "    </tr>\n",
       "    <tr>\n",
       "      <th>9998</th>\n",
       "      <td>Goodnight Mommy</td>\n",
       "      <td>When twin brothers arrive home to find their m...</td>\n",
       "      <td>en</td>\n",
       "      <td>2022-09-16</td>\n",
       "      <td>11.475</td>\n",
       "      <td>450</td>\n",
       "      <td>6.271</td>\n",
       "    </tr>\n",
       "    <tr>\n",
       "      <th>9999</th>\n",
       "      <td>I Am Mother</td>\n",
       "      <td>A teenage girl is raised underground by a robo...</td>\n",
       "      <td>en</td>\n",
       "      <td>2019-06-07</td>\n",
       "      <td>14.960</td>\n",
       "      <td>2532</td>\n",
       "      <td>6.696</td>\n",
       "    </tr>\n",
       "  </tbody>\n",
       "</table>\n",
       "</div>"
      ],
      "text/plain": [
       "                title                                           overview  \\\n",
       "9995       Banana Joe  Island farmer Banana Joe helps the local commu...   \n",
       "9996       Wolf Hound  Inspired by the real-life German special opera...   \n",
       "9997      Eternal 831  In the present day, the world is in turmoil du...   \n",
       "9998  Goodnight Mommy  When twin brothers arrive home to find their m...   \n",
       "9999      I Am Mother  A teenage girl is raised underground by a robo...   \n",
       "\n",
       "     original_language release date  popularity  vote_count  vote_average  \n",
       "9995                it   1982-03-24      15.202         451         6.700  \n",
       "9996                en   2022-06-03      12.173          90         6.500  \n",
       "9997                ja   2022-03-18      12.510          18         5.778  \n",
       "9998                en   2022-09-16      11.475         450         6.271  \n",
       "9999                en   2019-06-07      14.960        2532         6.696  "
      ]
     },
     "execution_count": 6,
     "metadata": {},
     "output_type": "execute_result"
    }
   ],
   "source": [
    "final.tail()"
   ]
  },
  {
   "cell_type": "code",
   "execution_count": 15,
   "id": "4bbfb0d8-ca50-4a2f-a94a-2148e3575f10",
   "metadata": {},
   "outputs": [],
   "source": [
    "final.to_csv(\"TMDB DataSet2\")"
   ]
  }
 ],
 "metadata": {
  "kernelspec": {
   "display_name": "Python 3 (ipykernel)",
   "language": "python",
   "name": "python3"
  },
  "language_info": {
   "codemirror_mode": {
    "name": "ipython",
    "version": 3
   },
   "file_extension": ".py",
   "mimetype": "text/x-python",
   "name": "python",
   "nbconvert_exporter": "python",
   "pygments_lexer": "ipython3",
   "version": "3.11.9"
  }
 },
 "nbformat": 4,
 "nbformat_minor": 5
}
